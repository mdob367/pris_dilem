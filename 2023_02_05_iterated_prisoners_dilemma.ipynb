{
  "nbformat": 4,
  "nbformat_minor": 0,
  "metadata": {
    "colab": {
      "provenance": [],
      "include_colab_link": true
    },
    "kernelspec": {
      "name": "python3",
      "display_name": "Python 3"
    },
    "language_info": {
      "name": "python"
    }
  },
  "cells": [
    {
      "cell_type": "markdown",
      "metadata": {
        "id": "view-in-github",
        "colab_type": "text"
      },
      "source": [
        "<a href=\"https://colab.research.google.com/github/mdob367/pris_dilem/blob/main/2023_02_05_iterated_prisoners_dilemma.ipynb\" target=\"_parent\"><img src=\"https://colab.research.google.com/assets/colab-badge.svg\" alt=\"Open In Colab\"/></a>"
      ]
    },
    {
      "cell_type": "markdown",
      "source": [
        "# 2023-02-05 Iterated prisoner's dilemma"
      ],
      "metadata": {
        "id": "n0wIP57fzp4m"
      }
    },
    {
      "cell_type": "markdown",
      "source": [
        "starlog\n",
        "\n",
        "2/26 Stephanie: added agent \"Stephanie\"\n",
        "\n",
        "2/26 Vishal: added TitForTwoTats, GrimTrigger\n",
        "\n",
        "2/11 Mac: added two agents and probably shitty code for a tournament. altered one bit of pre-existing code to change score report to report avg score instead of total"
      ],
      "metadata": {
        "id": "AHC9KWywrnqS"
      }
    },
    {
      "cell_type": "code",
      "source": [
        "from __future__ import annotations\n",
        "\n",
        "import abc\n",
        "import enum\n",
        "import random\n",
        "from typing import Any, Optional, Tuple\n",
        "\n",
        "import attrs\n",
        "import numpy as np\n",
        "import pandas as pd"
      ],
      "metadata": {
        "id": "GKpEHmOQzxD5"
      },
      "execution_count": null,
      "outputs": []
    },
    {
      "cell_type": "code",
      "source": [
        "@enum.unique\n",
        "class Decision(enum.Enum):\n",
        "  COOPERATE = 0\n",
        "  DEFECT = 1"
      ],
      "metadata": {
        "id": "x85koZoD0NuN"
      },
      "execution_count": null,
      "outputs": []
    },
    {
      "cell_type": "code",
      "source": [
        "AgentState = Any\n",
        "\n",
        "\n",
        "class Agent(abc.ABC):\n",
        "  @abc.abstractmethod\n",
        "  def make_decision(\n",
        "      self,\n",
        "      other_agents_decisions: Tuple[Decision, ...],\n",
        "      previous_state: AgentState,\n",
        "    ) -> Tuple[Decision, AgentState]:\n",
        "    \"\"\"Make a new decision in an iterated prisoner's dilemma.\n",
        "\n",
        "    Args:\n",
        "      other_agents_decisions: List of decisions the other agent has made in\n",
        "        your previous interactions with them, ordered from most recent to least\n",
        "        recent.\n",
        "      previous_state: Some object that encodes the previous internal state of\n",
        "        this agent.\n",
        "    Return:\n",
        "      The next decision your agent makes in the iterated prisoner's dilemma, and\n",
        "      the current internal state of this agent (to be passed on to subsequent\n",
        "      calls to `make_decision`).\n",
        "    \"\"\"\n",
        "    ...\n",
        "\n",
        "  @property\n",
        "  @abc.abstractmethod\n",
        "  def initial_state(self) -> AgentState:\n",
        "    \"\"\"The initial internal state of this agent.\"\"\"\n",
        "    ..."
      ],
      "metadata": {
        "id": "OosPK61uzykp"
      },
      "execution_count": null,
      "outputs": []
    },
    {
      "cell_type": "code",
      "source": [
        "def payoff(\n",
        "    your_decision: Decision,\n",
        "    other_decision: Decision,\n",
        ") -> int:\n",
        "  if your_decision == Decision.COOPERATE:\n",
        "    if other_decision == Decision.COOPERATE:\n",
        "      return 3\n",
        "    if other_decision == Decision.DEFECT:\n",
        "      return 0\n",
        "  if your_decision == Decision.DEFECT:\n",
        "    if other_decision == Decision.COOPERATE:\n",
        "      return 5\n",
        "    if other_decision == Decision.DEFECT:\n",
        "      return 1\n",
        "\n",
        "\n",
        "def play_iterated_prisoners_dilemma(\n",
        "    agent_1: Agent,\n",
        "    agent_2: Agent,\n",
        "    expeted_number_of_interactions: float = 200.0,\n",
        "    rng: Optional[np.random.Generator] = None,\n",
        ") -> Tuple[int, int]:\n",
        "  if rng is None:\n",
        "    rng = np.random.default_rng()\n",
        "  num_interactions = rng.poisson(expeted_number_of_interactions)\n",
        "  score_1 = 0\n",
        "  score_2 = 0\n",
        "  agent_1_state = agent_1.initial_state\n",
        "  agent_2_state = agent_2.initial_state\n",
        "  agent_1_decisions = ()\n",
        "  agent_2_decisions = ()\n",
        "  for interaction in range(num_interactions):\n",
        "    agent_1_decision, agent_1_state = agent_1.make_decision(\n",
        "        other_agents_decisions=agent_2_decisions,\n",
        "        previous_state=agent_1_state,\n",
        "    )\n",
        "\n",
        "    agent_2_decision, agent_2_state = agent_2.make_decision(\n",
        "        other_agents_decisions=agent_1_decisions,\n",
        "        previous_state=agent_2_state,\n",
        "    )\n",
        "    \n",
        "    agent_1_decisions = (agent_1_decision,) + agent_1_decisions\n",
        "    agent_2_decisions = (agent_2_decision,) + agent_2_decisions\n",
        "\n",
        "    score_1 += payoff(\n",
        "        your_decision=agent_1_decision,\n",
        "        other_decision=agent_2_decision,\n",
        "    )\n",
        "    score_2 += payoff(\n",
        "        your_decision=agent_2_decision,\n",
        "        other_decision=agent_1_decision,\n",
        "    )\n",
        "  return round(score_1/num_interactions,2), round(score_2/num_interactions,2)"
      ],
      "metadata": {
        "id": "6OUhZH4f1eXs"
      },
      "execution_count": null,
      "outputs": []
    },
    {
      "cell_type": "code",
      "source": [
        "class TitForTat(Agent):\n",
        "  @property\n",
        "  def initial_state(self) -> AgentState:\n",
        "    return None\n",
        "\n",
        "  def make_decision(\n",
        "      self,\n",
        "      other_agents_decisions: Tuple[Decision, ...],\n",
        "      previous_state: AgentState,\n",
        "  ) -> Tuple[Decision, AgentState]:\n",
        "    if not other_agents_decisions:\n",
        "      return Decision.COOPERATE, None\n",
        "    return other_agents_decisions[0], None"
      ],
      "metadata": {
        "id": "WsrDvLxP6H1J"
      },
      "execution_count": null,
      "outputs": []
    },
    {
      "cell_type": "code",
      "source": [
        "@attrs.frozen\n",
        "class Random(Agent):\n",
        "  random_seed: int\n",
        "\n",
        "  @property\n",
        "  def initial_state(self) -> AgentState:\n",
        "    return np.random.default_rng(self.random_seed)\n",
        "\n",
        "  def make_decision(\n",
        "      self,\n",
        "      other_agents_decisions: Tuple[Decision, ...],\n",
        "      previous_state: AgentState,\n",
        "  ) -> Tuple[Decision, AgentState]:\n",
        "    decision = previous_state.choice(Decision)\n",
        "    return decision, previous_state"
      ],
      "metadata": {
        "id": "51_G1Gqr7H-T"
      },
      "execution_count": null,
      "outputs": []
    },
    {
      "cell_type": "code",
      "source": [
        "class Mac(Agent):\n",
        "  @property\n",
        "  def initial_state(self) -> AgentState:\n",
        "    return [0,2] # serial_defections, cynicism\n",
        "  \n",
        "  def cynicism(agent, state):\n",
        "    hope = False\n",
        "    if state[0] == state[1]**2: \n",
        "      hope = True\n",
        "    if state[0] == state[1]**2 + 1:\n",
        "      state[0] = 0 \n",
        "      state[1] += 1\n",
        "      hope = True \n",
        "    return hope, state\n",
        "\n",
        "  def make_decision(\n",
        "      self,\n",
        "      other_agents_decisions: Tuple[Decision, ...],\n",
        "      previous_state: AgentState,\n",
        "  ) -> Tuple[Decision, AgentState]:\n",
        "      if  other_agents_decisions:\n",
        "         \n",
        "        if other_agents_decisions[0] == Decision.DEFECT:\n",
        "          previous_state[0] += 1\n",
        "        else:\n",
        "          previous_state[0] = 0\n",
        "\n",
        "        play, new_state = self.cynicism(previous_state)\n",
        "        if play:\n",
        "          return Decision.COOPERATE, new_state \n",
        "        else:\n",
        "          #previous_state[1] += 1\n",
        "          return other_agents_decisions[0], new_state\n",
        "      else:\n",
        "        return Decision.COOPERATE, previous_state"
      ],
      "metadata": {
        "id": "_O_3DaRFopGc"
      },
      "execution_count": null,
      "outputs": []
    },
    {
      "cell_type": "code",
      "source": [
        "class Cynic(Agent):\n",
        "  @property\n",
        "  def initial_state(self) -> AgentState:\n",
        "    return None\n",
        "\n",
        "  def make_decision(\n",
        "      self,\n",
        "      other_agents_decisions: Tuple[Decision, ...],\n",
        "      previous_state: AgentState,\n",
        "  ) -> Tuple[Decision, AgentState]:\n",
        "    return Decision.DEFECT, None"
      ],
      "metadata": {
        "id": "3UBRPVAho-Jg"
      },
      "execution_count": null,
      "outputs": []
    },
    {
      "cell_type": "code",
      "source": [
        "class Rube(Agent):\n",
        "  @property\n",
        "  def initial_state(self) -> AgentState:\n",
        "    return None\n",
        "\n",
        "  def make_decision(\n",
        "      self,\n",
        "      other_agents_decisions: Tuple[Decision, ...],\n",
        "      previous_state: AgentState,\n",
        "  ) -> Tuple[Decision, AgentState]:\n",
        "    return Decision.COOPERATE, None"
      ],
      "metadata": {
        "id": "B-OGRTuD3xR5"
      },
      "execution_count": null,
      "outputs": []
    },
    {
      "cell_type": "code",
      "source": [
        "class Stephanie(Agent):\n",
        "  @property\n",
        "  def initial_state(self) -> AgentState:\n",
        "    return None\n",
        "\n",
        "  def make_decision(\n",
        "      self,\n",
        "      other_agents_decisions: Tuple[Decision, ...],\n",
        "      previous_state: AgentState,\n",
        "  ) -> Tuple[Decision, AgentState]:\n",
        "    return Decision.COOPERATE, None"
      ],
      "metadata": {
        "id": "idub_EpnROz8"
      },
      "execution_count": null,
      "outputs": []
    },
    {
      "cell_type": "code",
      "source": [
        "class Troll(Agent):\n",
        "  @property\n",
        "  def initial_state(self) -> AgentState:\n",
        "    return [0,0]    # [troll, grim trigger]\n",
        "\n",
        "  def make_decision(\n",
        "      self,\n",
        "      other_agents_decisions: Tuple[Decision, ...],\n",
        "      previous_state: AgentState,\n",
        "  ) -> Tuple[Decision, AgentState]:\n",
        "\n",
        "      if 1 in previous_state:        \n",
        "        return Decision.DEFECT, previous_state\n",
        "\n",
        "      num_rounds = len(other_agents_decisions)\n",
        "\n",
        "      if num_rounds < 2:        \n",
        "        return Decision.DEFECT, previous_state \n",
        "        \n",
        "      elif num_rounds < 3 and (Decision.DEFECT not in other_agents_decisions):\n",
        "        previous_state[0] = 1   # start trolling       \n",
        "        return Decision.DEFECT, previous_state\n",
        "\n",
        "      elif num_rounds < 4:       \n",
        "        return Decision.COOPERATE, previous_state\n",
        "      else:\n",
        "        if other_agents_decisions[0] == Decision.COOPERATE:          \n",
        "          return Decision.COOPERATE, previous_state\n",
        "        else:\n",
        "          previous_state[1] = 1   # grim trigger\n",
        "          return Decision.DEFECT, previous_state"
      ],
      "metadata": {
        "id": "PFpksHi24A0C"
      },
      "execution_count": null,
      "outputs": []
    },
    {
      "cell_type": "code",
      "source": [
        "class TitForTwoTats(Agent):\n",
        "  @property\n",
        "  def initial_state(self) -> AgentState:\n",
        "    return None\n",
        "\n",
        "  def make_decision(\n",
        "      self,\n",
        "      other_agents_decisions: Tuple[Decision, ...],\n",
        "      previous_state: AgentState,\n",
        "  ) -> Tuple[Decision, AgentState]:\n",
        "\n",
        "    num_rounds = len(other_agents_decisions)\n",
        "\n",
        "    if num_rounds < 2:        \n",
        "        return Decision.COOPERATE, None\n",
        "\n",
        "    if other_agents_decisions[0] == Decision.DEFECT and other_agents_decisions[1] == Decision.DEFECT:\n",
        "      return Decision.DEFECT, None\n",
        "    return Decision.COOPERATE, None"
      ],
      "metadata": {
        "id": "87UvL_Z3LDaD"
      },
      "execution_count": null,
      "outputs": []
    },
    {
      "cell_type": "code",
      "source": [
        "class GrimTrigger(Agent):\n",
        "  @property\n",
        "  def initial_state(self) -> AgentState:\n",
        "    return None\n",
        "\n",
        "  def make_decision(\n",
        "      self,\n",
        "      other_agents_decisions: Tuple[Decision, ...],\n",
        "      previous_state: AgentState,\n",
        "  ) -> Tuple[Decision, AgentState]:\n",
        "\n",
        "    if Decision.DEFECT in other_agents_decisions:\n",
        "      return Decision.DEFECT, None\n",
        "    else:\n",
        "      return Decision.COOPERATE, None"
      ],
      "metadata": {
        "id": "QMxw47V9NoZH"
      },
      "execution_count": null,
      "outputs": []
    },
    {
      "cell_type": "code",
      "source": [
        "class EricTheEvil(Agent):\n",
        "  @property\n",
        "  def initial_state(self) -> AgentState:\n",
        "    return None\n",
        "\n",
        "  def make_decision(\n",
        "      self,\n",
        "      other_agents_decisions: Tuple[Decision, ...],\n",
        "      previous_state: AgentState,\n",
        "  ) -> Tuple[Decision, AgentState]:\n",
        "\n",
        "    d = sum([int(d==Decision.DEFECT) for d in other_agent_decisions])\n",
        "    t = len(other_agent_decisions)\n",
        "    r = random.random()\n",
        "    return [Decision.COOPERATE, Decision.DEFECT][d/t < r]\n"
      ],
      "metadata": {
        "id": "ETMFJr0ZOvtu"
      },
      "execution_count": null,
      "outputs": []
    },
    {
      "cell_type": "code",
      "source": [
        "import operator"
      ],
      "metadata": {
        "id": "T7a3H7gcRIVm"
      },
      "execution_count": null,
      "outputs": []
    },
    {
      "cell_type": "code",
      "source": [
        "@attrs.frozen\n",
        "class BinomialState:\n",
        "  my_decisions: list[Decision]\n",
        "  decision_matrix: np.ndarray\n",
        "\n",
        "  def add_decision(\n",
        "      self,\n",
        "      my_decision: Decision,\n",
        "  ) -> BinomialState:\n",
        "    return BinomialState(\n",
        "        my_decisions=self.my_decisions + [my_decision],\n",
        "        decision_matrix=self.decision_matrix,\n",
        "    )\n",
        "\n",
        "  def update_decision_matrix(\n",
        "      self,\n",
        "      other_decision: Decision,\n",
        "  ) -> BinomialState:\n",
        "    decision_matrix = self.decision_matrix.copy()\n",
        "    if len(self.my_decisions) > 1:\n",
        "      row_idx = self.my_decisions[-2].value\n",
        "      col_idx = other_decision.value\n",
        "      decision_matrix[row_idx, col_idx] += 1\n",
        "    return BinomialState(\n",
        "        my_decisions=self.my_decisions,\n",
        "        decision_matrix=decision_matrix,\n",
        "    )\n",
        "\n",
        "\n",
        "class Binomial(Agent):\n",
        "  @property\n",
        "  def initial_state(self) -> AgentState:\n",
        "    return BinomialState(\n",
        "        my_decisions=[],\n",
        "        decision_matrix=np.zeros((2, 2), dtype=int),\n",
        "    )\n",
        "\n",
        "  @staticmethod\n",
        "  def other_is_random(decision_matrix: np.ndarray) -> bool:\n",
        "    reaction_counts = np.sum(decision_matrix, axis=1)\n",
        "    if np.any(reaction_counts < 2):\n",
        "      return False\n",
        "    conditional_defection_probs = decision_matrix[:, 1] / reaction_counts\n",
        "    std_devs = np.sqrt(conditional_defection_probs * (1 - conditional_defection_probs) / (reaction_counts - 1))\n",
        "    return np.logical_and(\n",
        "      conditional_defection_probs + 2 * std_devs < 1,\n",
        "      np.logical_and(\n",
        "        conditional_defection_probs - 2 * std_devs > 0,\n",
        "        np.abs(conditional_defection_probs - 0.5) < 2 * std_devs,\n",
        "      ),\n",
        "    ).all()\n",
        "\n",
        "  def make_decision(self, other_agents_decisions: Tuple[Decision, ...], previous_state: AgentState) -> Tuple[Decision, AgentState]:\n",
        "    if not other_agents_decisions:\n",
        "      # Cooperate on first round.\n",
        "      my_decision = Decision.COOPERATE\n",
        "      current_state = previous_state.add_decision(my_decision)\n",
        "      return my_decision, current_state\n",
        "    current_state = previous_state.update_decision_matrix(other_agents_decisions[0])\n",
        "    if self.other_is_random(current_state.decision_matrix):\n",
        "      my_decision = Decision.DEFECT\n",
        "    else:\n",
        "      my_decision = other_agents_decisions[0]\n",
        "    current_state = current_state.add_decision(my_decision)\n",
        "    return my_decision, current_state"
      ],
      "metadata": {
        "id": "BIGPe_E4Iv49"
      },
      "execution_count": null,
      "outputs": []
    },
    {
      "cell_type": "code",
      "source": [
        "agents = [TitForTat(), Mac(), Cynic(), Random(random_seed=1), Rube(), Troll(), Binomial()] # probably disgusting beginner code heh\n",
        "num_agents = len(agents)\n",
        "agent_names = ['TitForTat', 'Mac', 'Cynic', 'Random', 'Rube', 'Troll', 'Binomial']\n",
        "results = []\n",
        "\n",
        "for first_agent in agents:\n",
        "  results.append([])\n",
        "  for opponent in agents:\n",
        "    match = play_iterated_prisoners_dilemma(\n",
        "        agent_1=first_agent,\n",
        "        agent_2=opponent,\n",
        "    )\n",
        "    results[-1].append(match)\n",
        "print(results)\n",
        "df = pd.DataFrame(results, columns = agent_names, index = agent_names)\n",
        "df"
      ],
      "metadata": {
        "colab": {
          "base_uri": "https://localhost:8080/",
          "height": 306
        },
        "id": "AiUynMp2q1dG",
        "outputId": "b717157f-c29d-40bd-c9d5-1715015dae43"
      },
      "execution_count": null,
      "outputs": [
        {
          "output_type": "stream",
          "name": "stdout",
          "text": [
            "[[(3.0, 3.0), (3.0, 3.0), (1.0, 1.02), (2.21, 2.21), (3.0, 3.0), (2.98, 2.98), (3.0, 3.0)], [(3.0, 3.0), (3.0, 3.0), (0.93, 1.27), (2.18, 2.24), (3.0, 3.0), (2.99, 2.99), (3.0, 3.0)], [(1.02, 1.0), (1.27, 0.93), (1.0, 1.0), (2.91, 0.52), (5.0, 0.0), (1.04, 0.99), (1.02, 0.99)], [(2.21, 2.21), (2.27, 2.19), (0.52, 2.91), (1.95, 1.95), (4.05, 1.43), (0.56, 2.91), (0.94, 2.74)], [(3.0, 3.0), (3.0, 3.0), (0.0, 5.0), (1.42, 4.05), (3.0, 3.0), (0.0, 5.0), (3.0, 3.0)], [(2.98, 2.98), (2.99, 2.99), (0.99, 1.04), (2.9, 0.56), (5.0, 0.0), (2.98, 2.98), (2.99, 2.99)], [(3.0, 3.0), (3.0, 3.0), (1.0, 1.02), (2.73, 0.95), (3.0, 3.0), (2.98, 2.98), (3.0, 3.0)]]\n"
          ]
        },
        {
          "output_type": "execute_result",
          "data": {
            "text/plain": [
              "              TitForTat           Mac         Cynic        Random  \\\n",
              "TitForTat    (3.0, 3.0)    (3.0, 3.0)   (1.0, 1.02)  (2.21, 2.21)   \n",
              "Mac          (3.0, 3.0)    (3.0, 3.0)  (0.93, 1.27)  (2.18, 2.24)   \n",
              "Cynic       (1.02, 1.0)  (1.27, 0.93)    (1.0, 1.0)  (2.91, 0.52)   \n",
              "Random     (2.21, 2.21)  (2.27, 2.19)  (0.52, 2.91)  (1.95, 1.95)   \n",
              "Rube         (3.0, 3.0)    (3.0, 3.0)    (0.0, 5.0)  (1.42, 4.05)   \n",
              "Troll      (2.98, 2.98)  (2.99, 2.99)  (0.99, 1.04)   (2.9, 0.56)   \n",
              "Binomial     (3.0, 3.0)    (3.0, 3.0)   (1.0, 1.02)  (2.73, 0.95)   \n",
              "\n",
              "                   Rube         Troll      Binomial  \n",
              "TitForTat    (3.0, 3.0)  (2.98, 2.98)    (3.0, 3.0)  \n",
              "Mac          (3.0, 3.0)  (2.99, 2.99)    (3.0, 3.0)  \n",
              "Cynic        (5.0, 0.0)  (1.04, 0.99)  (1.02, 0.99)  \n",
              "Random     (4.05, 1.43)  (0.56, 2.91)  (0.94, 2.74)  \n",
              "Rube         (3.0, 3.0)    (0.0, 5.0)    (3.0, 3.0)  \n",
              "Troll        (5.0, 0.0)  (2.98, 2.98)  (2.99, 2.99)  \n",
              "Binomial     (3.0, 3.0)  (2.98, 2.98)    (3.0, 3.0)  "
            ],
            "text/html": [
              "\n",
              "  <div id=\"df-e33b093b-b6ea-4b72-b05f-476a78808493\">\n",
              "    <div class=\"colab-df-container\">\n",
              "      <div>\n",
              "<style scoped>\n",
              "    .dataframe tbody tr th:only-of-type {\n",
              "        vertical-align: middle;\n",
              "    }\n",
              "\n",
              "    .dataframe tbody tr th {\n",
              "        vertical-align: top;\n",
              "    }\n",
              "\n",
              "    .dataframe thead th {\n",
              "        text-align: right;\n",
              "    }\n",
              "</style>\n",
              "<table border=\"1\" class=\"dataframe\">\n",
              "  <thead>\n",
              "    <tr style=\"text-align: right;\">\n",
              "      <th></th>\n",
              "      <th>TitForTat</th>\n",
              "      <th>Mac</th>\n",
              "      <th>Cynic</th>\n",
              "      <th>Random</th>\n",
              "      <th>Rube</th>\n",
              "      <th>Troll</th>\n",
              "      <th>Binomial</th>\n",
              "    </tr>\n",
              "  </thead>\n",
              "  <tbody>\n",
              "    <tr>\n",
              "      <th>TitForTat</th>\n",
              "      <td>(3.0, 3.0)</td>\n",
              "      <td>(3.0, 3.0)</td>\n",
              "      <td>(1.0, 1.02)</td>\n",
              "      <td>(2.21, 2.21)</td>\n",
              "      <td>(3.0, 3.0)</td>\n",
              "      <td>(2.98, 2.98)</td>\n",
              "      <td>(3.0, 3.0)</td>\n",
              "    </tr>\n",
              "    <tr>\n",
              "      <th>Mac</th>\n",
              "      <td>(3.0, 3.0)</td>\n",
              "      <td>(3.0, 3.0)</td>\n",
              "      <td>(0.93, 1.27)</td>\n",
              "      <td>(2.18, 2.24)</td>\n",
              "      <td>(3.0, 3.0)</td>\n",
              "      <td>(2.99, 2.99)</td>\n",
              "      <td>(3.0, 3.0)</td>\n",
              "    </tr>\n",
              "    <tr>\n",
              "      <th>Cynic</th>\n",
              "      <td>(1.02, 1.0)</td>\n",
              "      <td>(1.27, 0.93)</td>\n",
              "      <td>(1.0, 1.0)</td>\n",
              "      <td>(2.91, 0.52)</td>\n",
              "      <td>(5.0, 0.0)</td>\n",
              "      <td>(1.04, 0.99)</td>\n",
              "      <td>(1.02, 0.99)</td>\n",
              "    </tr>\n",
              "    <tr>\n",
              "      <th>Random</th>\n",
              "      <td>(2.21, 2.21)</td>\n",
              "      <td>(2.27, 2.19)</td>\n",
              "      <td>(0.52, 2.91)</td>\n",
              "      <td>(1.95, 1.95)</td>\n",
              "      <td>(4.05, 1.43)</td>\n",
              "      <td>(0.56, 2.91)</td>\n",
              "      <td>(0.94, 2.74)</td>\n",
              "    </tr>\n",
              "    <tr>\n",
              "      <th>Rube</th>\n",
              "      <td>(3.0, 3.0)</td>\n",
              "      <td>(3.0, 3.0)</td>\n",
              "      <td>(0.0, 5.0)</td>\n",
              "      <td>(1.42, 4.05)</td>\n",
              "      <td>(3.0, 3.0)</td>\n",
              "      <td>(0.0, 5.0)</td>\n",
              "      <td>(3.0, 3.0)</td>\n",
              "    </tr>\n",
              "    <tr>\n",
              "      <th>Troll</th>\n",
              "      <td>(2.98, 2.98)</td>\n",
              "      <td>(2.99, 2.99)</td>\n",
              "      <td>(0.99, 1.04)</td>\n",
              "      <td>(2.9, 0.56)</td>\n",
              "      <td>(5.0, 0.0)</td>\n",
              "      <td>(2.98, 2.98)</td>\n",
              "      <td>(2.99, 2.99)</td>\n",
              "    </tr>\n",
              "    <tr>\n",
              "      <th>Binomial</th>\n",
              "      <td>(3.0, 3.0)</td>\n",
              "      <td>(3.0, 3.0)</td>\n",
              "      <td>(1.0, 1.02)</td>\n",
              "      <td>(2.73, 0.95)</td>\n",
              "      <td>(3.0, 3.0)</td>\n",
              "      <td>(2.98, 2.98)</td>\n",
              "      <td>(3.0, 3.0)</td>\n",
              "    </tr>\n",
              "  </tbody>\n",
              "</table>\n",
              "</div>\n",
              "      <button class=\"colab-df-convert\" onclick=\"convertToInteractive('df-e33b093b-b6ea-4b72-b05f-476a78808493')\"\n",
              "              title=\"Convert this dataframe to an interactive table.\"\n",
              "              style=\"display:none;\">\n",
              "        \n",
              "  <svg xmlns=\"http://www.w3.org/2000/svg\" height=\"24px\"viewBox=\"0 0 24 24\"\n",
              "       width=\"24px\">\n",
              "    <path d=\"M0 0h24v24H0V0z\" fill=\"none\"/>\n",
              "    <path d=\"M18.56 5.44l.94 2.06.94-2.06 2.06-.94-2.06-.94-.94-2.06-.94 2.06-2.06.94zm-11 1L8.5 8.5l.94-2.06 2.06-.94-2.06-.94L8.5 2.5l-.94 2.06-2.06.94zm10 10l.94 2.06.94-2.06 2.06-.94-2.06-.94-.94-2.06-.94 2.06-2.06.94z\"/><path d=\"M17.41 7.96l-1.37-1.37c-.4-.4-.92-.59-1.43-.59-.52 0-1.04.2-1.43.59L10.3 9.45l-7.72 7.72c-.78.78-.78 2.05 0 2.83L4 21.41c.39.39.9.59 1.41.59.51 0 1.02-.2 1.41-.59l7.78-7.78 2.81-2.81c.8-.78.8-2.07 0-2.86zM5.41 20L4 18.59l7.72-7.72 1.47 1.35L5.41 20z\"/>\n",
              "  </svg>\n",
              "      </button>\n",
              "      \n",
              "  <style>\n",
              "    .colab-df-container {\n",
              "      display:flex;\n",
              "      flex-wrap:wrap;\n",
              "      gap: 12px;\n",
              "    }\n",
              "\n",
              "    .colab-df-convert {\n",
              "      background-color: #E8F0FE;\n",
              "      border: none;\n",
              "      border-radius: 50%;\n",
              "      cursor: pointer;\n",
              "      display: none;\n",
              "      fill: #1967D2;\n",
              "      height: 32px;\n",
              "      padding: 0 0 0 0;\n",
              "      width: 32px;\n",
              "    }\n",
              "\n",
              "    .colab-df-convert:hover {\n",
              "      background-color: #E2EBFA;\n",
              "      box-shadow: 0px 1px 2px rgba(60, 64, 67, 0.3), 0px 1px 3px 1px rgba(60, 64, 67, 0.15);\n",
              "      fill: #174EA6;\n",
              "    }\n",
              "\n",
              "    [theme=dark] .colab-df-convert {\n",
              "      background-color: #3B4455;\n",
              "      fill: #D2E3FC;\n",
              "    }\n",
              "\n",
              "    [theme=dark] .colab-df-convert:hover {\n",
              "      background-color: #434B5C;\n",
              "      box-shadow: 0px 1px 3px 1px rgba(0, 0, 0, 0.15);\n",
              "      filter: drop-shadow(0px 1px 2px rgba(0, 0, 0, 0.3));\n",
              "      fill: #FFFFFF;\n",
              "    }\n",
              "  </style>\n",
              "\n",
              "      <script>\n",
              "        const buttonEl =\n",
              "          document.querySelector('#df-e33b093b-b6ea-4b72-b05f-476a78808493 button.colab-df-convert');\n",
              "        buttonEl.style.display =\n",
              "          google.colab.kernel.accessAllowed ? 'block' : 'none';\n",
              "\n",
              "        async function convertToInteractive(key) {\n",
              "          const element = document.querySelector('#df-e33b093b-b6ea-4b72-b05f-476a78808493');\n",
              "          const dataTable =\n",
              "            await google.colab.kernel.invokeFunction('convertToInteractive',\n",
              "                                                     [key], {});\n",
              "          if (!dataTable) return;\n",
              "\n",
              "          const docLinkHtml = 'Like what you see? Visit the ' +\n",
              "            '<a target=\"_blank\" href=https://colab.research.google.com/notebooks/data_table.ipynb>data table notebook</a>'\n",
              "            + ' to learn more about interactive tables.';\n",
              "          element.innerHTML = '';\n",
              "          dataTable['output_type'] = 'display_data';\n",
              "          await google.colab.output.renderOutput(dataTable, element);\n",
              "          const docLink = document.createElement('div');\n",
              "          docLink.innerHTML = docLinkHtml;\n",
              "          element.appendChild(docLink);\n",
              "        }\n",
              "      </script>\n",
              "    </div>\n",
              "  </div>\n",
              "  "
            ]
          },
          "metadata": {},
          "execution_count": 46
        }
      ]
    },
    {
      "cell_type": "code",
      "source": [
        "play_iterated_prisoners_dilemma(\n",
        "    agent_1=TitForTat(),\n",
        "    agent_2=Random(random_seed=1),\n",
        ")"
      ],
      "metadata": {
        "colab": {
          "base_uri": "https://localhost:8080/"
        },
        "id": "QAI1Wo4DoroO",
        "outputId": "ace54191-85d8-43bc-badd-aeffd58f78a4"
      },
      "execution_count": null,
      "outputs": [
        {
          "output_type": "execute_result",
          "data": {
            "text/plain": [
              "(2.2, 2.22)"
            ]
          },
          "metadata": {},
          "execution_count": 47
        }
      ]
    },
    {
      "cell_type": "code",
      "source": [
        "play_iterated_prisoners_dilemma(\n",
        "    agent_1=TitForTat(),\n",
        "    agent_2=TitForTat(),\n",
        ")"
      ],
      "metadata": {
        "colab": {
          "base_uri": "https://localhost:8080/"
        },
        "id": "mFP3kHoV6wr-",
        "outputId": "a3d6307a-8611-4ce9-cf4a-b32a76a49e57"
      },
      "execution_count": null,
      "outputs": [
        {
          "output_type": "execute_result",
          "data": {
            "text/plain": [
              "(3.0, 3.0)"
            ]
          },
          "metadata": {},
          "execution_count": 48
        }
      ]
    },
    {
      "cell_type": "code",
      "source": [
        "play_iterated_prisoners_dilemma(\n",
        "    agent_1=TitForTat(),\n",
        "    agent_2=Random(random_seed=0),\n",
        ")"
      ],
      "metadata": {
        "colab": {
          "base_uri": "https://localhost:8080/"
        },
        "id": "37P-RKwD63M8",
        "outputId": "b784769c-3410-4306-c5c3-ca9d9888daaf"
      },
      "execution_count": null,
      "outputs": [
        {
          "output_type": "execute_result",
          "data": {
            "text/plain": [
              "(2.15, 2.15)"
            ]
          },
          "metadata": {},
          "execution_count": 49
        }
      ]
    },
    {
      "cell_type": "code",
      "source": [
        "play_iterated_prisoners_dilemma(\n",
        "    agent_1=TitForTat(),\n",
        "    agent_2=Random(random_seed=1),\n",
        ")"
      ],
      "metadata": {
        "colab": {
          "base_uri": "https://localhost:8080/"
        },
        "id": "L6XX-zLh8AGX",
        "outputId": "fe0e601d-3e27-4693-b79a-4a3d3697e3cb"
      },
      "execution_count": null,
      "outputs": [
        {
          "output_type": "execute_result",
          "data": {
            "text/plain": [
              "(2.2, 2.23)"
            ]
          },
          "metadata": {},
          "execution_count": 50
        }
      ]
    },
    {
      "cell_type": "code",
      "source": [],
      "metadata": {
        "id": "nOxop0sa8DGj"
      },
      "execution_count": null,
      "outputs": []
    }
  ]
}